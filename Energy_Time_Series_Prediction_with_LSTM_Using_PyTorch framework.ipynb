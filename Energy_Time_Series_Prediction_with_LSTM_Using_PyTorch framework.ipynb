{
  "nbformat": 4,
  "nbformat_minor": 0,
  "metadata": {
    "colab": {
      "provenance": []
    },
    "kernelspec": {
      "name": "python3",
      "display_name": "Python 3"
    },
    "accelerator": "GPU"
  },
  "cells": [
    {
      "cell_type": "code",
      "metadata": {
        "id": "wb-Z7wNKUJko"
      },
      "source": [
        "import numpy as np\n",
        "import matplotlib.pyplot as plt\n",
        "import pandas as pd\n",
        "import torch\n",
        "import torch.nn as nn\n",
        "from torch.autograd import Variable\n",
        "from sklearn.preprocessing import MinMaxScaler"
      ],
      "execution_count": 80,
      "outputs": []
    },
    {
      "cell_type": "code",
      "metadata": {
        "id": "ooQPXSYhA_ps",
        "colab": {
          "base_uri": "https://localhost:8080/",
          "height": 268
        },
        "outputId": "d095a6a8-c8bb-452c-a5c8-4437197938dd"
      },
      "source": [
        "training_set = pd.read_csv('/content/feeds.csv')\n",
        "\n",
        "#training_set = training_set.iloc[:,1:2].values\n",
        "\n",
        "#plt.plot(training_set, label = 'Shampoo Sales Data')\n",
        "plt.plot(training_set['Time'],training_set['Watt'] ,label = 'Energy')\n",
        "plt.show()"
      ],
      "execution_count": 81,
      "outputs": [
        {
          "output_type": "display_data",
          "data": {
            "text/plain": [
              "<Figure size 432x288 with 1 Axes>"
            ],
            "image/png": "[encoded data removed]"
          },
          "metadata": {
            "needs_background": "light"
          }
        }
      ]
    },
    {
      "cell_type": "code",
      "source": [
        "pd.read_csv('/content/feeds.csv')"
      ],
      "metadata": {
        "colab": {
          "base_uri": "https://localhost:8080/",
          "height": 423
        },
        "id": "BGQKxH74SuCM",
        "outputId": "a8b96c38-6c62-4d6b-ad9d-33ee1965e182"
      },
      "execution_count": 82,
      "outputs": [
        {
          "output_type": "execute_result",
          "data": {
            "text/plain": [
              "     Time       Watt\n",
              "0       0  230.56792\n",
              "1      17  218.54192\n",
              "2      34  198.47443\n",
              "3      51  201.97946\n",
              "4      68  215.42940\n",
              "..    ...        ...\n",
              "435  7395  151.18636\n",
              "436  7412  144.28439\n",
              "437  7429  150.76614\n",
              "438  7446  144.04976\n",
              "439  7463  211.80959\n",
              "\n",
              "[440 rows x 2 columns]"
            ],
            "text/html": [
              "\n",
              "  <div id=\"df-76b79602-3c8a-43ac-bf5c-ae3512e2428d\">\n",
              "    <div class=\"colab-df-container\">\n",
              "      <div>\n",
              "<style scoped>\n",
              "    .dataframe tbody tr th:only-of-type {\n",
              "        vertical-align: middle;\n",
              "    }\n",
              "\n",
              "    .dataframe tbody tr th {\n",
              "        vertical-align: top;\n",
              "    }\n",
              "\n",
              "    .dataframe thead th {\n",
              "        text-align: right;\n",
              "    }\n",
              "</style>\n",
              "<table border=\"1\" class=\"dataframe\">\n",
              "  <thead>\n",
              "    <tr style=\"text-align: right;\">\n",
              "      <th></th>\n",
              "      <th>Time</th>\n",
              "      <th>Watt</th>\n",
              "    </tr>\n",
              "  </thead>\n",
              "  <tbody>\n",
              "    <tr>\n",
              "      <th>0</th>\n",
              "      <td>0</td>\n",
              "      <td>230.56792</td>\n",
              "    </tr>\n",
              "    <tr>\n",
              "      <th>1</th>\n",
              "      <td>17</td>\n",
              "      <td>218.54192</td>\n",
              "    </tr>\n",
              "    <tr>\n",
              "      <th>2</th>\n",
              "      <td>34</td>\n",
              "      <td>198.47443</td>\n",
              "    </tr>\n",
              "    <tr>\n",
              "      <th>3</th>\n",
              "      <td>51</td>\n",
              "      <td>201.97946</td>\n",
              "    </tr>\n",
              "    <tr>\n",
              "      <th>4</th>\n",
              "      <td>68</td>\n",
              "      <td>215.42940</td>\n",
              "    </tr>\n",
              "    <tr>\n",
              "      <th>...</th>\n",
              "      <td>...</td>\n",
              "      <td>...</td>\n",
              "    </tr>\n",
              "    <tr>\n",
              "      <th>435</th>\n",
              "      <td>7395</td>\n",
              "      <td>151.18636</td>\n",
              "    </tr>\n",
              "    <tr>\n",
              "      <th>436</th>\n",
              "      <td>7412</td>\n",
              "      <td>144.28439</td>\n",
              "    </tr>\n",
              "    <tr>\n",
              "      <th>437</th>\n",
              "      <td>7429</td>\n",
              "      <td>150.76614</td>\n",
              "    </tr>\n",
              "    <tr>\n",
              "      <th>438</th>\n",
              "      <td>7446</td>\n",
              "      <td>144.04976</td>\n",
              "    </tr>\n",
              "    <tr>\n",
              "      <th>439</th>\n",
              "      <td>7463</td>\n",
              "      <td>211.80959</td>\n",
              "    </tr>\n",
              "  </tbody>\n",
              "</table>\n",
              "<p>440 rows × 2 columns</p>\n",
              "</div>\n",
              "      <button class=\"colab-df-convert\" onclick=\"convertToInteractive('df-76b79602-3c8a-43ac-bf5c-ae3512e2428d')\"\n",
              "              title=\"Convert this dataframe to an interactive table.\"\n",
              "              style=\"display:none;\">\n",
              "        \n",
              "  <svg xmlns=\"http://www.w3.org/2000/svg\" height=\"24px\"viewBox=\"0 0 24 24\"\n",
              "       width=\"24px\">\n",
              "    <path d=\"M0 0h24v24H0V0z\" fill=\"none\"/>\n",
              "    <path d=\"M18.56 5.44l.94 2.06.94-2.06 2.06-.94-2.06-.94-.94-2.06-.94 2.06-2.06.94zm-11 1L8.5 8.5l.94-2.06 2.06-.94-2.06-.94L8.5 2.5l-.94 2.06-2.06.94zm10 10l.94 2.06.94-2.06 2.06-.94-2.06-.94-.94-2.06-.94 2.06-2.06.94z\"/><path d=\"M17.41 7.96l-1.37-1.37c-.4-.4-.92-.59-1.43-.59-.52 0-1.04.2-1.43.59L10.3 9.45l-7.72 7.72c-.78.78-.78 2.05 0 2.83L4 21.41c.39.39.9.59 1.41.59.51 0 1.02-.2 1.41-.59l7.78-7.78 2.81-2.81c.8-.78.8-2.07 0-2.86zM5.41 20L4 18.59l7.72-7.72 1.47 1.35L5.41 20z\"/>\n",
              "  </svg>\n",
              "      </button>\n",
              "      \n",
              "  <style>\n",
              "    .colab-df-container {\n",
              "      display:flex;\n",
              "      flex-wrap:wrap;\n",
              "      gap: 12px;\n",
              "    }\n",
              "\n",
              "    .colab-df-convert {\n",
              "      background-color: #E8F0FE;\n",
              "      border: none;\n",
              "      border-radius: 50%;\n",
              "      cursor: pointer;\n",
              "      display: none;\n",
              "      fill: #1967D2;\n",
              "      height: 32px;\n",
              "      padding: 0 0 0 0;\n",
              "      width: 32px;\n",
              "    }\n",
              "\n",
              "    .colab-df-convert:hover {\n",
              "      background-color: #E2EBFA;\n",
              "      box-shadow: 0px 1px 2px rgba(60, 64, 67, 0.3), 0px 1px 3px 1px rgba(60, 64, 67, 0.15);\n",
              "      fill: #174EA6;\n",
              "    }\n",
              "\n",
              "    [theme=dark] .colab-df-convert {\n",
              "      background-color: #3B4455;\n",
              "      fill: #D2E3FC;\n",
              "    }\n",
              "\n",
              "    [theme=dark] .colab-df-convert:hover {\n",
              "      background-color: #434B5C;\n",
              "      box-shadow: 0px 1px 3px 1px rgba(0, 0, 0, 0.15);\n",
              "      filter: drop-shadow(0px 1px 2px rgba(0, 0, 0, 0.3));\n",
              "      fill: #FFFFFF;\n",
              "    }\n",
              "  </style>\n",
              "\n",
              "      <script>\n",
              "        const buttonEl =\n",
              "          document.querySelector('#df-76b79602-3c8a-43ac-bf5c-ae3512e2428d button.colab-df-convert');\n",
              "        buttonEl.style.display =\n",
              "          google.colab.kernel.accessAllowed ? 'block' : 'none';\n",
              "\n",
              "        async function convertToInteractive(key) {\n",
              "          const element = document.querySelector('#df-76b79602-3c8a-43ac-bf5c-ae3512e2428d');\n",
              "          const dataTable =\n",
              "            await google.colab.kernel.invokeFunction('convertToInteractive',\n",
              "                                                     [key], {});\n",
              "          if (!dataTable) return;\n",
              "\n",
              "          const docLinkHtml = 'Like what you see? Visit the ' +\n",
              "            '<a target=\"_blank\" href=https://colab.research.google.com/notebooks/data_table.ipynb>data table notebook</a>'\n",
              "            + ' to learn more about interactive tables.';\n",
              "          element.innerHTML = '';\n",
              "          dataTable['output_type'] = 'display_data';\n",
              "          await google.colab.output.renderOutput(dataTable, element);\n",
              "          const docLink = document.createElement('div');\n",
              "          docLink.innerHTML = docLinkHtml;\n",
              "          element.appendChild(docLink);\n",
              "        }\n",
              "      </script>\n",
              "    </div>\n",
              "  </div>\n",
              "  "
            ]
          },
          "metadata": {},
          "execution_count": 82
        }
      ]
    },
    {
      "cell_type": "code",
      "metadata": {
        "id": "vIWvJCpOVmwU"
      },
      "source": [
        "def sliding_windows(data, seq_length):\n",
        "    x = []\n",
        "    y = []\n",
        "\n",
        "    for i in range(len(data)-seq_length-1):\n",
        "        _x = data[i:(i+seq_length)]\n",
        "        _y = data[i+seq_length]\n",
        "        x.append(_x)\n",
        "        y.append(_y)\n",
        "\n",
        "    return np.array(x),np.array(y)\n",
        "\n",
        "sc = MinMaxScaler()\n",
        "training_data = sc.fit_transform(training_set)\n",
        "\n",
        "seq_length = 4\n",
        "x, y = sliding_windows(training_data, seq_length)\n",
        "\n",
        "train_size = int(len(y) * 0.67)\n",
        "test_size = len(y) - train_size\n",
        "\n",
        "dataX = Variable(torch.Tensor(np.array(x)))\n",
        "dataY = Variable(torch.Tensor(np.array(y)))\n",
        "\n",
        "trainX = Variable(torch.Tensor(np.array(x[0:train_size])))\n",
        "trainY = Variable(torch.Tensor(np.array(y[0:train_size])))\n",
        "\n",
        "testX = Variable(torch.Tensor(np.array(x[train_size:len(x)])))\n",
        "testY = Variable(torch.Tensor(np.array(y[train_size:len(y)])))"
      ],
      "execution_count": 83,
      "outputs": []
    },
    {
      "cell_type": "code",
      "metadata": {
        "id": "_BcDEjcABRVz"
      },
      "source": [
        "class LSTM(nn.Module):\n",
        "\n",
        "    def __init__(self, num_classes, input_size, hidden_size, num_layers):\n",
        "        super(LSTM, self).__init__()\n",
        "        \n",
        "        self.num_classes = num_classes\n",
        "        self.num_layers = num_layers\n",
        "        self.input_size = input_size\n",
        "        self.hidden_size = hidden_size\n",
        "        self.seq_length = seq_length\n",
        "        \n",
        "        self.lstm = nn.LSTM(input_size=input_size, hidden_size=hidden_size,\n",
        "                            num_layers=num_layers, batch_first=True)\n",
        "        \n",
        "        self.fc = nn.Linear(hidden_size, num_classes)\n",
        "\n",
        "    def forward(self, x):\n",
        "        h_0 = Variable(torch.zeros(\n",
        "            self.num_layers, x.size(0), self.hidden_size))\n",
        "        \n",
        "        c_0 = Variable(torch.zeros(\n",
        "            self.num_layers, x.size(0), self.hidden_size))\n",
        "        \n",
        "        # Propagate input through LSTM\n",
        "        ula, (h_out, _) = self.lstm(x, (h_0, c_0))\n",
        "        \n",
        "        h_out = h_out.view(-1, self.hidden_size)\n",
        "        \n",
        "        out = self.fc(h_out)\n",
        "        \n",
        "        return out"
      ],
      "execution_count": 84,
      "outputs": []
    },
    {
      "cell_type": "code",
      "metadata": {
        "id": "a2vvHeFgVtCp",
        "colab": {
          "base_uri": "https://localhost:8080/"
        },
        "outputId": "b4c7a1ee-d5fc-40c7-821c-c18f90e8bd49"
      },
      "source": [
        "num_epochs = 10000\n",
        "learning_rate = 0.03\n",
        "\n",
        "input_size = 2\n",
        "hidden_size = 15\n",
        "num_layers = 1\n",
        "\n",
        "num_classes = 1\n",
        "\n",
        "lstm = LSTM(num_classes, input_size, hidden_size, num_layers)\n",
        "\n",
        "criterion = torch.nn.MSELoss()    # mean-squared error for regression\n",
        "optimizer = torch.optim.Adam(lstm.parameters(), lr=learning_rate)\n",
        "#optimizer = torch.optim.SGD(lstm.parameters(), lr=learning_rate)\n",
        "#t=trainX*1.01\n",
        "# Train the model\n",
        "for epoch in range(num_epochs):\n",
        "    outputs = lstm(trainX*1.02)\n",
        "    optimizer.zero_grad()\n",
        "    \n",
        "    # obtain the loss function\n",
        "    loss = criterion(outputs, trainY)\n",
        "    \n",
        "    loss.backward()\n",
        "    outputs=nn.Dropout(.5)\n",
        "    optimizer.step()\n",
        "    if epoch % 100 == 0:\n",
        "      print(\"Epoch: %d, loss: %1.5f\" % (epoch, loss.item()))"
      ],
      "execution_count": 85,
      "outputs": [
        {
          "output_type": "stream",
          "name": "stderr",
          "text": [
            "/usr/local/lib/python3.8/dist-packages/torch/nn/modules/loss.py:536: UserWarning: Using a target size (torch.Size([291, 2])) that is different to the input size (torch.Size([291, 1])). This will likely lead to incorrect results due to broadcasting. Please ensure they have the same size.\n",
            "  return F.mse_loss(input, target, reduction=self.reduction)\n"
          ]
        },
        {
          "output_type": "stream",
          "name": "stdout",
          "text": [
            "Epoch: 0, loss: 0.09011\n",
            "Epoch: 100, loss: 0.04603\n",
            "Epoch: 200, loss: 0.04590\n",
            "Epoch: 300, loss: 0.04581\n",
            "Epoch: 400, loss: 0.04632\n",
            "Epoch: 500, loss: 0.04560\n",
            "Epoch: 600, loss: 0.04549\n",
            "Epoch: 700, loss: 0.04541\n",
            "Epoch: 800, loss: 0.04536\n",
            "Epoch: 900, loss: 0.04543\n",
            "Epoch: 1000, loss: 0.04520\n",
            "Epoch: 1100, loss: 0.04489\n",
            "Epoch: 1200, loss: 0.04458\n",
            "Epoch: 1300, loss: 0.04438\n",
            "Epoch: 1400, loss: 0.04399\n",
            "Epoch: 1500, loss: 0.04417\n",
            "Epoch: 1600, loss: 0.04384\n",
            "Epoch: 1700, loss: 0.04365\n",
            "Epoch: 1800, loss: 0.04347\n",
            "Epoch: 1900, loss: 0.04337\n",
            "Epoch: 2000, loss: 0.04333\n",
            "Epoch: 2100, loss: 0.04312\n",
            "Epoch: 2200, loss: 0.04304\n",
            "Epoch: 2300, loss: 0.04302\n",
            "Epoch: 2400, loss: 0.04302\n",
            "Epoch: 2500, loss: 0.04297\n",
            "Epoch: 2600, loss: 0.04291\n",
            "Epoch: 2700, loss: 0.04288\n",
            "Epoch: 2800, loss: 0.04313\n",
            "Epoch: 2900, loss: 0.04305\n",
            "Epoch: 3000, loss: 0.04282\n",
            "Epoch: 3100, loss: 0.04286\n",
            "Epoch: 3200, loss: 0.04284\n",
            "Epoch: 3300, loss: 0.04279\n",
            "Epoch: 3400, loss: 0.04279\n",
            "Epoch: 3500, loss: 0.04280\n",
            "Epoch: 3600, loss: 0.04286\n",
            "Epoch: 3700, loss: 0.04383\n",
            "Epoch: 3800, loss: 0.04279\n",
            "Epoch: 3900, loss: 0.04279\n",
            "Epoch: 4000, loss: 0.04277\n",
            "Epoch: 4100, loss: 0.04282\n",
            "Epoch: 4200, loss: 0.04278\n",
            "Epoch: 4300, loss: 0.04276\n",
            "Epoch: 4400, loss: 0.04281\n",
            "Epoch: 4500, loss: 0.04283\n",
            "Epoch: 4600, loss: 0.04284\n",
            "Epoch: 4700, loss: 0.04276\n",
            "Epoch: 4800, loss: 0.04280\n",
            "Epoch: 4900, loss: 0.04276\n",
            "Epoch: 5000, loss: 0.04275\n",
            "Epoch: 5100, loss: 0.04276\n",
            "Epoch: 5200, loss: 0.04276\n",
            "Epoch: 5300, loss: 0.04277\n",
            "Epoch: 5400, loss: 0.04276\n",
            "Epoch: 5500, loss: 0.04275\n",
            "Epoch: 5600, loss: 0.04275\n",
            "Epoch: 5700, loss: 0.04275\n",
            "Epoch: 5800, loss: 0.04275\n",
            "Epoch: 5900, loss: 0.04277\n",
            "Epoch: 6000, loss: 0.04345\n",
            "Epoch: 6100, loss: 0.04278\n",
            "Epoch: 6200, loss: 0.04275\n",
            "Epoch: 6300, loss: 0.04275\n",
            "Epoch: 6400, loss: 0.04275\n",
            "Epoch: 6500, loss: 0.04274\n",
            "Epoch: 6600, loss: 0.04276\n",
            "Epoch: 6700, loss: 0.04276\n",
            "Epoch: 6800, loss: 0.04279\n",
            "Epoch: 6900, loss: 0.04274\n",
            "Epoch: 7000, loss: 0.04275\n",
            "Epoch: 7100, loss: 0.04273\n",
            "Epoch: 7200, loss: 0.04274\n",
            "Epoch: 7300, loss: 0.04275\n",
            "Epoch: 7400, loss: 0.04273\n",
            "Epoch: 7500, loss: 0.04274\n",
            "Epoch: 7600, loss: 0.04274\n",
            "Epoch: 7700, loss: 0.04275\n",
            "Epoch: 7800, loss: 0.04275\n",
            "Epoch: 7900, loss: 0.04281\n",
            "Epoch: 8000, loss: 0.04274\n",
            "Epoch: 8100, loss: 0.04281\n",
            "Epoch: 8200, loss: 0.04281\n",
            "Epoch: 8300, loss: 0.04274\n",
            "Epoch: 8400, loss: 0.04277\n",
            "Epoch: 8500, loss: 0.04275\n",
            "Epoch: 8600, loss: 0.04274\n",
            "Epoch: 8700, loss: 0.04274\n",
            "Epoch: 8800, loss: 0.04281\n",
            "Epoch: 8900, loss: 0.04275\n",
            "Epoch: 9000, loss: 0.04273\n",
            "Epoch: 9100, loss: 0.04273\n",
            "Epoch: 9200, loss: 0.04275\n",
            "Epoch: 9300, loss: 0.04275\n",
            "Epoch: 9400, loss: 0.04279\n",
            "Epoch: 9500, loss: 0.04274\n",
            "Epoch: 9600, loss: 0.04277\n",
            "Epoch: 9700, loss: 0.04274\n",
            "Epoch: 9800, loss: 0.04273\n",
            "Epoch: 9900, loss: 0.04274\n"
          ]
        }
      ]
    },
    {
      "cell_type": "code",
      "metadata": {
        "id": "CKEzO1jzKydL",
        "colab": {
          "base_uri": "https://localhost:8080/",
          "height": 294
        },
        "outputId": "e38a5577-1cad-47a8-8705-51830de42635"
      },
      "source": [
        "lstm.eval()\n",
        "train_predict = lstm(dataX)\n",
        "\n",
        "data_predict = train_predict.data.numpy()\n",
        "dataY_plot = dataY.data.numpy()\n",
        "\n",
        "# data_predict = sc.inverse_transform(data_predict)\n",
        "# dataY_plot = sc.inverse_transform(dataY_plot)\n",
        "\n",
        "plt.axvline(x=train_size, c='r', linestyle='--')\n",
        "\n",
        "plt.plot(dataY_plot, label='actual')\n",
        "plt.plot(data_predict,label='Predicted')\n",
        "plt.suptitle('Energy Time-Series Prediction')\n",
        "plt.legend(loc=\"upper right\")\n",
        "plt.show()"
      ],
      "execution_count": 86,
      "outputs": [
        {
          "output_type": "display_data",
          "data": {
            "text/plain": [
              "<Figure size 432x288 with 1 Axes>"
            ],
            "image/png": "[encoded data removed]"
          },
          "metadata": {
            "needs_background": "light"
          }
        }
      ]
    },
    {
      "cell_type": "code",
      "source": [
        "torch.save(lstm.state_dict(),'Energy_prediction.pt')"
      ],
      "metadata": {
        "id": "7eLHeQ8zRrJU"
      },
      "execution_count": 87,
      "outputs": []
    },
    {
      "cell_type": "code",
      "source": [
        "#print(lstm.state_dict())"
      ],
      "metadata": {
        "id": "bMQ34tYLAscN"
      },
      "execution_count": 88,
      "outputs": []
    },
    {
      "cell_type": "markdown",
      "source": [
        "Loading the weights\n"
      ],
      "metadata": {
        "id": "p-CRAPjYsz5z"
      }
    },
    {
      "cell_type": "code",
      "source": [
        "# input_size = 1\n",
        "# hidden_size = 2\n",
        "# num_layers = 1\n",
        "\n",
        "# num_classes = 1\n",
        "\n",
        "# l2=LSTM(num_classes, input_size, hidden_size, num_layers)\n",
        "# l2.load_state_dict(torch.load('/content/Energy_prediction.pt'))\n",
        "# l2"
      ],
      "metadata": {
        "id": "BvjZO2B3AvH4"
      },
      "execution_count": 89,
      "outputs": []
    },
    {
      "cell_type": "code",
      "source": [
        "y=np.array(dataY_plot)"
      ],
      "metadata": {
        "id": "gyENOcI9R13L"
      },
      "execution_count": 90,
      "outputs": []
    },
    {
      "cell_type": "code",
      "source": [
        "y=y.flatten()"
      ],
      "metadata": {
        "id": "W89AxqeLXtc3"
      },
      "execution_count": 91,
      "outputs": []
    },
    {
      "cell_type": "code",
      "source": [
        "TW=np.sum(y)\n",
        "print(\"The total Watt usage = \",round(TW,3),\"W\")"
      ],
      "metadata": {
        "colab": {
          "base_uri": "https://localhost:8080/"
        },
        "id": "0Ubvs6aQWo8F",
        "outputId": "73230b33-b91a-4e84-f47c-123a3b4143da"
      },
      "execution_count": 92,
      "outputs": [
        {
          "output_type": "stream",
          "name": "stdout",
          "text": [
            "The total Watt usage =  360.716 W\n"
          ]
        }
      ]
    },
    {
      "cell_type": "code",
      "source": [
        "data_predict=data_predict.flatten()\n",
        "TW_pred =np.sum(data_predict)\n",
        "print(\"The total predicted Watt usage = \",round(TW_pred,3),\"W\")"
      ],
      "metadata": {
        "colab": {
          "base_uri": "https://localhost:8080/"
        },
        "id": "bgciOwgDYnzL",
        "outputId": "7adbd814-8100-4e32-aa3f-685e73cc7b49"
      },
      "execution_count": 93,
      "outputs": [
        {
          "output_type": "stream",
          "name": "stdout",
          "text": [
            "The total predicted Watt usage =  174.541 W\n"
          ]
        }
      ]
    },
    {
      "cell_type": "code",
      "source": [
        "error =-(TW-TW_pred)*100/TW \n",
        "error"
      ],
      "metadata": {
        "colab": {
          "base_uri": "https://localhost:8080/"
        },
        "id": "Jy992pt5ZKr0",
        "outputId": "25486f0e-91d2-4824-a411-c7e942d0821f"
      },
      "execution_count": 94,
      "outputs": [
        {
          "output_type": "execute_result",
          "data": {
            "text/plain": [
              "-51.61242562875822"
            ]
          },
          "metadata": {},
          "execution_count": 94
        }
      ]
    },
    {
      "cell_type": "markdown",
      "source": [
        "Around 3% error"
      ],
      "metadata": {
        "id": "nLgX1jgAaqHY"
      }
    },
    {
      "cell_type": "code",
      "source": [
        "x=float(input(\"Enter the per unit cost of electricity:\"))\n",
        "print(\"Your estimated bill is Rs\",round(TW_pred*x,2))"
      ],
      "metadata": {
        "colab": {
          "base_uri": "https://localhost:8080/"
        },
        "id": "hOYETEVwakNd",
        "outputId": "d68cba51-36cf-4133-a6b8-464ecbcd5d48"
      },
      "execution_count": 96,
      "outputs": [
        {
          "output_type": "stream",
          "name": "stdout",
          "text": [
            "Enter the per unit cost of electricity:7.31\n",
            "Your estimated bill is Rs 1275.9\n"
          ]
        }
      ]
    }
  ]
}