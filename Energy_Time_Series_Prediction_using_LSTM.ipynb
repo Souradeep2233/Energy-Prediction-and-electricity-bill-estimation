{
  "nbformat": 4,
  "nbformat_minor": 0,
  "metadata": {
    "colab": {
      "provenance": []
    },
    "kernelspec": {
      "name": "python3",
      "display_name": "Python 3"
    },
    "accelerator": "GPU"
  },
  "cells": [
    {
      "cell_type": "markdown",
      "source": [
        "Import the modules\n"
      ],
      "metadata": {
        "id": "4xlWvOo9Pa_A"
      }
    },
    {
      "cell_type": "code",
      "metadata": {
        "id": "wb-Z7wNKUJko"
      },
      "source": [
        "import numpy as np\n",
        "import matplotlib.pyplot as plt\n",
        "import pandas as pd\n",
        "import torch\n",
        "import torch.nn as nn\n",
        "from torch.autograd import Variable\n",
        "from sklearn.preprocessing import MinMaxScaler"
      ],
      "execution_count": 80,
      "outputs": []
    },
    {
      "cell_type": "markdown",
      "source": [
        "Import the dataset and visualise.\n"
      ],
      "metadata": {
        "id": "SsUasic7PfLr"
      }
    },
    {
      "cell_type": "code",
      "metadata": {
        "id": "ooQPXSYhA_ps"
      },
      "source": [
        "training_set = pd.read_csv('/content/Energy Reading.csv')\n",
        "\n",
        "#training_set = training_set.iloc[:,1:2].values\n",
        "\n",
        "#plt.plot(training_set, label = 'Shampoo Sales Data')\n",
        "plt.plot(training_set['Time'],training_set['Watt'] ,label = 'Energy')\n",
        "plt.show()"
      ],
      "execution_count": null,
      "outputs": []
    },
    {
      "cell_type": "markdown",
      "source": [
        "**Seperate training and test data set.**"
      ],
      "metadata": {
        "id": "qIm2XZvgPp1J"
      }
    },
    {
      "cell_type": "code",
      "metadata": {
        "id": "vIWvJCpOVmwU"
      },
      "source": [
        "def sliding_windows(data, seq_length):\n",
        "    x = []\n",
        "    y = []\n",
        "\n",
        "    for i in range(len(data)-seq_length-1):\n",
        "        _x = data[i:(i+seq_length)]\n",
        "        _y = data[i+seq_length]\n",
        "        x.append(_x)\n",
        "        y.append(_y)\n",
        "\n",
        "    return np.array(x),np.array(y)\n",
        "\n",
        "sc = MinMaxScaler()\n",
        "training_data = sc.fit_transform(training_set)\n",
        "\n",
        "seq_length = 4\n",
        "x, y = sliding_windows(training_data, seq_length)\n",
        "\n",
        "train_size = int(len(y) * 0.67)\n",
        "test_size = len(y) - train_size\n",
        "\n",
        "dataX = Variable(torch.Tensor(np.array(x)))\n",
        "dataY = Variable(torch.Tensor(np.array(y)))\n",
        "\n",
        "trainX = Variable(torch.Tensor(np.array(x[0:train_size])))\n",
        "trainY = Variable(torch.Tensor(np.array(y[0:train_size])))\n",
        "\n",
        "testX = Variable(torch.Tensor(np.array(x[train_size:len(x)])))\n",
        "testY = Variable(torch.Tensor(np.array(y[train_size:len(y)])))"
      ],
      "execution_count": 83,
      "outputs": []
    },
    {
      "cell_type": "markdown",
      "source": [
        "**LSTM CLASS CODE** "
      ],
      "metadata": {
        "id": "fpgWdIqnPwrf"
      }
    },
    {
      "cell_type": "code",
      "metadata": {
        "id": "_BcDEjcABRVz"
      },
      "source": [
        "class LSTM(nn.Module):\n",
        "\n",
        "    def __init__(self, num_classes, input_size, hidden_size, num_layers):\n",
        "        super(LSTM, self).__init__()\n",
        "        \n",
        "        self.num_classes = num_classes\n",
        "        self.num_layers = num_layers\n",
        "        self.input_size = input_size\n",
        "        self.hidden_size = hidden_size\n",
        "        self.seq_length = seq_length\n",
        "        \n",
        "        self.lstm = nn.LSTM(input_size=input_size, hidden_size=hidden_size,\n",
        "                            num_layers=num_layers, batch_first=True)\n",
        "        \n",
        "        self.fc = nn.Linear(hidden_size, num_classes)\n",
        "\n",
        "    def forward(self, x):\n",
        "        h_0 = Variable(torch.zeros(\n",
        "            self.num_layers, x.size(0), self.hidden_size))\n",
        "        \n",
        "        c_0 = Variable(torch.zeros(\n",
        "            self.num_layers, x.size(0), self.hidden_size))\n",
        "        \n",
        "        # Propagate input through LSTM\n",
        "        ula, (h_out, _) = self.lstm(x, (h_0, c_0))\n",
        "        \n",
        "        h_out = h_out.view(-1, self.hidden_size)\n",
        "        \n",
        "        out = self.fc(h_out)\n",
        "        \n",
        "        return out"
      ],
      "execution_count": 84,
      "outputs": []
    },
    {
      "cell_type": "markdown",
      "source": [
        "**MODEL TRAINING** "
      ],
      "metadata": {
        "id": "eiAul7QvP8aD"
      }
    },
    {
      "cell_type": "code",
      "metadata": {
        "id": "a2vvHeFgVtCp"
      },
      "source": [
        "num_epochs = 10000\n",
        "learning_rate = 0.03\n",
        "\n",
        "input_size = 2\n",
        "hidden_size = 15\n",
        "num_layers = 1\n",
        "\n",
        "num_classes = 1\n",
        "\n",
        "lstm = LSTM(num_classes, input_size, hidden_size, num_layers)\n",
        "\n",
        "criterion = torch.nn.MSELoss()    # mean-squared error for regression\n",
        "optimizer = torch.optim.Adam(lstm.parameters(), lr=learning_rate)\n",
        "#optimizer = torch.optim.SGD(lstm.parameters(), lr=learning_rate)\n",
        "#t=trainX*1.01\n",
        "# Train the model\n",
        "for epoch in range(num_epochs):\n",
        "    outputs = lstm(trainX*1.02)\n",
        "    optimizer.zero_grad()\n",
        "    \n",
        "    # obtain the loss function\n",
        "    loss = criterion(outputs, trainY)\n",
        "    \n",
        "    loss.backward()\n",
        "    outputs=nn.Dropout(.5)\n",
        "    optimizer.step()\n",
        "    if epoch % 100 == 0:\n",
        "      print(\"Epoch: %d, loss: %1.5f\" % (epoch, loss.item()))"
      ],
      "execution_count": null,
      "outputs": []
    },
    {
      "cell_type": "markdown",
      "source": [
        "Evaluating the model\n"
      ],
      "metadata": {
        "id": "y704Ml_BQOKI"
      }
    },
    {
      "cell_type": "code",
      "metadata": {
        "id": "CKEzO1jzKydL"
      },
      "source": [
        "lstm.eval()\n",
        "train_predict = lstm(dataX)\n",
        "\n",
        "data_predict = train_predict.data.numpy()\n",
        "dataY_plot = dataY.data.numpy()\n",
        "\n",
        "# data_predict = sc.inverse_transform(data_predict)\n",
        "# dataY_plot = sc.inverse_transform(dataY_plot)\n",
        "\n",
        "plt.axvline(x=train_size, c='r', linestyle='--')\n",
        "\n",
        "plt.plot(dataY_plot, label='actual')\n",
        "plt.plot(data_predict,label='Predicted')\n",
        "plt.suptitle('Energy Time-Series Prediction')\n",
        "plt.legend(loc=\"upper right\")\n",
        "plt.show()"
      ],
      "execution_count": null,
      "outputs": []
    },
    {
      "cell_type": "markdown",
      "source": [
        "Saving the model and it's weights\n"
      ],
      "metadata": {
        "id": "F_icYQXGQRrE"
      }
    },
    {
      "cell_type": "code",
      "source": [
        "torch.save(lstm.state_dict(),'Energy_prediction.pt')"
      ],
      "metadata": {
        "id": "7eLHeQ8zRrJU"
      },
      "execution_count": 87,
      "outputs": []
    },
    {
      "cell_type": "code",
      "source": [
        "#print(lstm.state_dict())"
      ],
      "metadata": {
        "id": "bMQ34tYLAscN"
      },
      "execution_count": 88,
      "outputs": []
    },
    {
      "cell_type": "markdown",
      "source": [
        "Loading the weights\n"
      ],
      "metadata": {
        "id": "p-CRAPjYsz5z"
      }
    },
    {
      "cell_type": "code",
      "source": [
        "# input_size = 1\n",
        "# hidden_size = 2\n",
        "# num_layers = 1\n",
        "\n",
        "# num_classes = 1\n",
        "\n",
        "# l2=LSTM(num_classes, input_size, hidden_size, num_layers)\n",
        "# l2.load_state_dict(torch.load('/content/Energy_prediction.pt'))\n",
        "# l2"
      ],
      "metadata": {
        "id": "BvjZO2B3AvH4"
      },
      "execution_count": 89,
      "outputs": []
    },
    {
      "cell_type": "markdown",
      "source": [
        "Actual Energy consumed!"
      ],
      "metadata": {
        "id": "TlcLgmSsQiq9"
      }
    },
    {
      "cell_type": "code",
      "source": [
        "y=np.array(dataY_plot)\n",
        "y=y.flatten()\n",
        "TW=np.sum(y)\n",
        "print(\"The total Watt usage = \",round(TW,3),\"W\")"
      ],
      "metadata": {
        "id": "0Ubvs6aQWo8F"
      },
      "execution_count": null,
      "outputs": []
    },
    {
      "cell_type": "markdown",
      "source": [
        "Predicted Energy Consumed!\n"
      ],
      "metadata": {
        "id": "E_M7uTDcQmk3"
      }
    },
    {
      "cell_type": "code",
      "source": [
        "data_predict=data_predict.flatten()\n",
        "TW_pred =np.sum(data_predict)\n",
        "print(\"The total predicted Watt usage = \",round(TW_pred,3),\"W\")"
      ],
      "metadata": {
        "id": "bgciOwgDYnzL"
      },
      "execution_count": null,
      "outputs": []
    },
    {
      "cell_type": "markdown",
      "source": [
        "Electricity Bill estimation"
      ],
      "metadata": {
        "id": "fiqujhN3Qqsb"
      }
    },
    {
      "cell_type": "code",
      "source": [
        "x=float(input(\"Enter the per unit cost of electricity:\"))\n",
        "print(\"Your estimated bill is Rs\",round(TW_pred*x,2))"
      ],
      "metadata": {
        "id": "hOYETEVwakNd"
      },
      "execution_count": null,
      "outputs": []
    }
  ]
}